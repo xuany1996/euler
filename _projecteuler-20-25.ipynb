{
 "cells": [
  {
   "cell_type": "code",
   "execution_count": 15,
   "metadata": {},
   "outputs": [
    {
     "name": "stdout",
     "output_type": "stream",
     "text": [
      "648\n"
     ]
    }
   ],
   "source": [
    "# Project Euler Problem 20 - Factorial digit sum\n",
    "\n",
    "import functools\n",
    "def sumdigits(digits):\n",
    "    return functools.reduce(lambda x, y: x+y, digits)\n",
    "f=1\n",
    "for i in range(2,101):\n",
    "    f*=i\n",
    "\n",
    "digits=[int(n) for n in str(f)]\n",
    "sum_=sumdigits(digits)\n",
    "print(sum_)"
   ]
  },
  {
   "cell_type": "code",
   "execution_count": 18,
   "metadata": {
    "scrolled": false
   },
   "outputs": [
    {
     "name": "stdout",
     "output_type": "stream",
     "text": [
      "4782\n"
     ]
    }
   ],
   "source": [
    "# Project Euler Problem 25 - 1000-digit Fibonacci number\n",
    "def countdigits(digits):\n",
    "    count=len([n for n in str(digits)])\n",
    "    return count\n",
    "\n",
    "feb=[1,1]\n",
    "index=1\n",
    "while countdigits(feb[index])<1000:\n",
    "    index += 1\n",
    "    feb.append(feb[index-1]+feb[index-2])\n",
    "print(index+1)\n",
    "        "
   ]
  },
  {
   "cell_type": "code",
   "execution_count": null,
   "metadata": {},
   "outputs": [],
   "source": []
  }
 ],
 "metadata": {
  "kernelspec": {
   "display_name": "Python 3",
   "language": "python",
   "name": "python3"
  },
  "language_info": {
   "codemirror_mode": {
    "name": "ipython",
    "version": 3
   },
   "file_extension": ".py",
   "mimetype": "text/x-python",
   "name": "python",
   "nbconvert_exporter": "python",
   "pygments_lexer": "ipython3",
   "version": "3.6.4"
  }
 },
 "nbformat": 4,
 "nbformat_minor": 2
}
